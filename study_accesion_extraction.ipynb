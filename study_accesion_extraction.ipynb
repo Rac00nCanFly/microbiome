{
 "cells": [
  {
   "metadata": {},
   "cell_type": "markdown",
   "source": "## EXTRACTION OF STUDY ACCESION NUMBERS OF DATA USED IN GMHI MANUSCRIPT",
   "id": "531155a298c3dec7"
  },
  {
   "cell_type": "code",
   "id": "initial_id",
   "metadata": {
    "collapsed": true,
    "ExecuteTime": {
     "end_time": "2025-07-15T20:17:36.254451Z",
     "start_time": "2025-07-15T20:17:35.849551Z"
    }
   },
   "source": [
    "#Studies and samples used to construct a meta-dataset composed of 4,347 human stool metagenomes.\n",
    "import pandas as pd\n",
    "\n",
    "df = pd.read_excel(\"/home/aleksandra/Pulpit/BIOINFORMATYKA/mikrobiom/gmhi/gmhi1.xlsx\")\n",
    "df.columns = df.iloc[0]\n",
    "df = df.drop(df.index[0])\n",
    "df = df.reset_index(drop=True)\n",
    "print(df.columns.tolist())\n",
    "print(\"----------------------------------------\")\n",
    "df_unique = df[\"Study Accession\"].unique()\n",
    "print(df_unique)\n",
    "print(\"----------------------------------------\")\n",
    "phenotype = df[\"Phenotypea\"].unique()\n",
    "print(phenotype)\n",
    "#gmhi_training = df_unique.tolist()"
   ],
   "outputs": [
    {
     "name": "stdout",
     "output_type": "stream",
     "text": [
      "['Author (Year)', 'Publication Title', 'Journal', 'Study Accession', 'Sample Accession', 'Sequencing Platform', 'Library Layout', 'Subject Health Status', 'Phenotypea', 'Subject Meta-datab', nan, nan, nan, nan, nan, nan, nan, nan, nan, nan, nan, nan]\n",
      "----------------------------------------\n",
      "[nan 'PRJEB21528' 'PRJEB7774' 'PRJEB6070' 'PRJEB12449' 'PRJEB10878'\n",
      " 'PRJEB1220' 'PRJNA385949' 'PRJNA389280' 'PRJEB15371' 'PRJNA278393'\n",
      " 'PRJNA422434' 'PRJEB1786' 'PRJEB6337' 'PRJEB12123' 'PRJEB19090'\n",
      " 'PRJNA305507' 'PRJNA268964' 'PRJEB1690' 'PRJNA319574' 'PRJEB11532'\n",
      " 'PRJEB6997' 'PRJNA299502' 'PRJDB3601' 'PRJEB8094' 'PRJEB13870'\n",
      " 'PRJEB6456' 'PRJEB4336' 'PRJNA177201' 'PRJNA373879' 'PRJNA328899'\n",
      " 'PRJNA48479' 'PRJNA290729' 'PRJEB12947']\n",
      "----------------------------------------\n",
      "[nan 'ACVD' 'Colorectal adenoma' 'Colorectal cancer' \"Crohn's disease\"\n",
      " 'Healthy' 'Obesity' 'Overweight' 'Rheumatoid arthritis'\n",
      " 'Symptomatic atherosclerosis' 'Impaired glucose tolerance'\n",
      " 'Type 2 diabetes' 'Ulcerative colitis' 'Underweight']\n"
     ]
    }
   ],
   "execution_count": 29
  },
  {
   "metadata": {},
   "cell_type": "code",
   "source": [
    "#Studies and samples used to construct the independent validation set composed of 679 human stool metagenomes\n",
    "import pandas as pd\n",
    "\n",
    "df = pd.read_excel(\"/home/aleksandra/Pulpit/BIOINFORMATYKA/mikrobiom/gmhi/gmhi4.xlsx\")\n",
    "df_unique = df[\"Unnamed: 3\"].unique()\n",
    "print(df_unique)\n",
    "gmhi_validation = df_unique.tolist()"
   ],
   "id": "973e234ba108c733",
   "outputs": [],
   "execution_count": null
  },
  {
   "metadata": {},
   "cell_type": "markdown",
   "source": "## EXTRACTION OF STUDY ACCESSION NUMBERS OF DATA USED IN GMWI2 MANUSCRIPT",
   "id": "1ded5b715c1227ea"
  },
  {
   "metadata": {},
   "cell_type": "code",
   "source": [
    "#Supplementary Data 2. Stool shotgun metagenome samples (n = 8069) from 54 independently published studies ranging across healthy and 11 non-healthy phenotypes.\n",
    "\n",
    "import pandas as pd\n",
    "\n",
    "df = pd.read_excel(\"/home/aleksandra/Pulpit/BIOINFORMATYKA/mikrobiom/gmwi2/gmwi2.xlsx\")\n",
    "df_unique = df[\"Unnamed: 1\"].unique()\n",
    "print(df_unique)\n",
    "gmwi2_training = df_unique.tolist()"
   ],
   "id": "35bf77eb7cc29fd4",
   "outputs": [],
   "execution_count": null
  },
  {
   "metadata": {},
   "cell_type": "code",
   "source": [
    "#Supplementary Data 7. Human stool metagenome samples (n = 1140) in the external validation dataset.\n",
    "import pandas as pd\n",
    "\n",
    "df = pd.read_excel(\"/home/aleksandra/Pulpit/BIOINFORMATYKA/mikrobiom/gmwi2/gmwi7.xlsx\")\n",
    "df_unique = df[\"Unnamed: 1\"].unique()\n",
    "print(df_unique)\n",
    "gmwi2_validation = df_unique.tolist()"
   ],
   "id": "c708c6cec9f05611",
   "outputs": [],
   "execution_count": null
  },
  {
   "metadata": {},
   "cell_type": "markdown",
   "source": "## EXTRACTION OF STUDY ACCESSION NUMBERS OF DATA USED IN THE hiPCA MANUSCRIPT",
   "id": "55a2d655abf9459a"
  },
  {
   "metadata": {},
   "cell_type": "code",
   "source": [
    "#\"For the discovery cohort and validation cohort, we used GMHI data\"\n",
    "import pandas as pd\n",
    "import numpy as np\n",
    "\n",
    "df = pd.read_excel('/home/aleksandra/Pulpit/BIOINFORMATYKA/mikrobiom/hiPCA/hipca1.xlsx', header=None, sheet_name = 'Discovery dataset')\n",
    "row_idx = df[df[0] == 'Study Accession'].index[0]\n",
    "study_accessions = df.loc[row_idx, 1:].values\n",
    "unique_accessions = np.unique(study_accessions)\n",
    "print(unique_accessions)\n",
    "hipca_validation = unique_accessions.tolist()"
   ],
   "id": "554c392ef9cc7586",
   "outputs": [],
   "execution_count": null
  },
  {
   "metadata": {},
   "cell_type": "code",
   "source": [
    "#For the test cohort, all sequencing data for this analysis can be obtained from the European Nucleotide Archive (ENA) databases, and the project numbers are PRJEB27005, PRJEB29127, PRJNA449784, PRJNA504891, PRJNA529124, PRJNA529400, and PRJNA531203\n",
    "import pandas as pd\n",
    "import numpy as np\n",
    "\n",
    "df = pd.read_excel('/home/aleksandra/Pulpit/BIOINFORMATYKA/mikrobiom/hiPCA/hipca1.xlsx', header=None, sheet_name = 'Test dataset')\n",
    "row_idx = df[df[0] == 'study_accession'].index[0]\n",
    "study_accessions = df.loc[row_idx, 1:].values\n",
    "unique_accessions = np.unique(study_accessions)\n",
    "print(unique_accessions)\n",
    "hipca_test = unique_accessions.tolist()"
   ],
   "id": "b4c9dc14125d54f3",
   "outputs": [],
   "execution_count": null
  },
  {
   "metadata": {},
   "cell_type": "markdown",
   "source": "## SUMMARY",
   "id": "e2b52933cc627b4a"
  },
  {
   "metadata": {},
   "cell_type": "code",
   "source": [
    "#Preparation of csv file consisting of all accession number of data used in GMWI2, GMHI and hiPCA and summarizing number of repeats\n",
    "import pandas as pd\n",
    "\n",
    "def pad_list(lst, length):\n",
    "    return lst + [None] * (length - len(lst))\n",
    "\n",
    "max_len = max(len(gmhi_training), len(gmhi_validation), len(gmwi2_training), len(gmwi2_validation), len(hipca_test), len(hipca_validation))\n",
    "\n",
    "data = {\n",
    "    'gmhi_test': pad_list(gmhi_training, max_len),\n",
    "    'gmhi_validation': pad_list(gmhi_validation, max_len),\n",
    "    'gmwi2_test': pad_list(gmwi2_training, max_len),\n",
    "    'gmwi2_validation': pad_list(gmwi2_validation, max_len),\n",
    "    'hipca_test': pad_list(hipca_test, max_len),\n",
    "    'hipca_validation': pad_list(hipca_validation, max_len)\n",
    "}\n",
    "df = pd.DataFrame(data)\n",
    "\n",
    "test_cols = [col for col in df.columns if col.endswith('test')]\n",
    "validation_cols = [col for col in df.columns if col.endswith('validation')]\n",
    "\n",
    "test_series = pd.concat([df[col] for col in test_cols], ignore_index=True).dropna()\n",
    "validation_series = pd.concat([df[col] for col in validation_cols], ignore_index=True).dropna()\n",
    "\n",
    "def summarize_duplicates(series, group_cols):\n",
    "\n",
    "    counts = series.value_counts()\n",
    "    duplicates = counts[counts > 1]\n",
    "    if duplicates.empty:\n",
    "        print(\"No repeats\")\n",
    "        return\n",
    "    print(\"Accession number | Number of repeates | Indices\")\n",
    "    for accession in duplicates.index:\n",
    "        cols_with_accession = [col for col in group_cols if accession in df[col].values]\n",
    "        print(f\"{accession} | {counts[accession]} | {cols_with_accession}\")\n",
    "\n",
    "print(\"\\nRepats of studies in test groups:\")\n",
    "summarize_duplicates(test_series, test_cols)\n",
    "\n",
    "print(\"\\nRepats of studies in validation groups:\")\n",
    "summarize_duplicates(validation_series, validation_cols)\n",
    "\n",
    "all_series = pd.concat([df[col] for col in df.columns], ignore_index=True).dropna()\n",
    "all_counts = all_series.value_counts()\n",
    "all_duplicates = all_counts[all_counts > 1]\n",
    "\n",
    "print(\"\\nRepats of studies in all groups:\")\n",
    "if all_duplicates.empty:\n",
    "    print(\"No repats\")\n",
    "else:\n",
    "    print(\"Accession number | Number of repeats | Indices\")\n",
    "    for accession in all_duplicates.index:\n",
    "        cols_with_accession = [col for col in df.columns if accession in df[col].values]\n",
    "        print(f\"{accession} | {all_counts[accession]} | {cols_with_accession}\")\n"
   ],
   "id": "a329ae3ea04f9a69",
   "outputs": [],
   "execution_count": null
  }
 ],
 "metadata": {
  "kernelspec": {
   "display_name": "Python 3",
   "language": "python",
   "name": "python3"
  },
  "language_info": {
   "codemirror_mode": {
    "name": "ipython",
    "version": 2
   },
   "file_extension": ".py",
   "mimetype": "text/x-python",
   "name": "python",
   "nbconvert_exporter": "python",
   "pygments_lexer": "ipython2",
   "version": "2.7.6"
  }
 },
 "nbformat": 4,
 "nbformat_minor": 5
}
