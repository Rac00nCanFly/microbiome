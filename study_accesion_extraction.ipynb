{
 "cells": [
  {
   "metadata": {},
   "cell_type": "markdown",
   "source": "## EXTRACTION OF STUDY ACCESION NUMBERS OF DATA USED IN GMHI MANUSCRIPT",
   "id": "531155a298c3dec7"
  },
  {
   "cell_type": "code",
   "id": "initial_id",
   "metadata": {
    "collapsed": true,
    "ExecuteTime": {
     "end_time": "2025-07-10T12:19:39.950179Z",
     "start_time": "2025-07-10T12:19:39.529594Z"
    }
   },
   "source": [
    "#Studies and samples used to construct a meta-dataset composed of 4,347 human stool metagenomes.\n",
    "import pandas as pd\n",
    "\n",
    "df = pd.read_excel(\"/home/aleksandra/Pulpit/BIOINFORMATYKA/mikrobiom/gmhi/gmhi1.xlsx\")\n",
    "df_unique = df[\"Unnamed: 3\"].unique()\n",
    "print(df_unique)\n",
    "gmhi_test = df_unique.tolist()"
   ],
   "outputs": [
    {
     "name": "stdout",
     "output_type": "stream",
     "text": [
      "['Study Accession' nan 'PRJEB21528' 'PRJEB7774' 'PRJEB6070' 'PRJEB12449'\n",
      " 'PRJEB10878' 'PRJEB1220' 'PRJNA385949' 'PRJNA389280' 'PRJEB15371'\n",
      " 'PRJNA278393' 'PRJNA422434' 'PRJEB1786' 'PRJEB6337' 'PRJEB12123'\n",
      " 'PRJEB19090' 'PRJNA305507' 'PRJNA268964' 'PRJEB1690' 'PRJNA319574'\n",
      " 'PRJEB11532' 'PRJEB6997' 'PRJNA299502' 'PRJDB3601' 'PRJEB8094'\n",
      " 'PRJEB13870' 'PRJEB6456' 'PRJEB4336' 'PRJNA177201' 'PRJNA373879'\n",
      " 'PRJNA328899' 'PRJNA48479' 'PRJNA290729' 'PRJEB12947']\n"
     ]
    }
   ],
   "execution_count": 40
  },
  {
   "metadata": {
    "ExecuteTime": {
     "end_time": "2025-07-10T12:19:41.937556Z",
     "start_time": "2025-07-10T12:19:41.826792Z"
    }
   },
   "cell_type": "code",
   "source": [
    "#Studies and samples used to construct the independent validation set composed of 679 human stool metagenomes\n",
    "import pandas as pd\n",
    "\n",
    "df = pd.read_excel(\"/home/aleksandra/Pulpit/BIOINFORMATYKA/mikrobiom/gmhi/gmhi4.xlsx\")\n",
    "df_unique = df[\"Unnamed: 3\"].unique()\n",
    "print(df_unique)\n",
    "gmhi_validation = df_unique.tolist()"
   ],
   "id": "973e234ba108c733",
   "outputs": [
    {
     "name": "stdout",
     "output_type": "stream",
     "text": [
      "['Study Accession' nan 'PRJNA321058' 'PRJEB17784' 'PRJEB6337'\n",
      " 'PRJNA397112' 'PRJNA373901' 'PRJNA375935' 'PRJNA447983' 'PRJDB4176'\n",
      " 'PRJEB27928']\n"
     ]
    }
   ],
   "execution_count": 41
  },
  {
   "metadata": {},
   "cell_type": "markdown",
   "source": "## EXTRACTION OF STUDY ACCESSION NUMBERS OF DATA USED IN GMWI2 MANUSCRIPT",
   "id": "1ded5b715c1227ea"
  },
  {
   "metadata": {
    "ExecuteTime": {
     "end_time": "2025-07-10T12:20:07.574852Z",
     "start_time": "2025-07-10T12:20:07.076180Z"
    }
   },
   "cell_type": "code",
   "source": [
    "#Supplementary Data 2. Stool shotgun metagenome samples (n = 8069) from 54 independently published studies ranging across healthy and 11 non-healthy phenotypes.\n",
    "\n",
    "import pandas as pd\n",
    "\n",
    "df = pd.read_excel(\"/home/aleksandra/Pulpit/BIOINFORMATYKA/mikrobiom/gmwi2/gmwi2.xlsx\")\n",
    "df_unique = df[\"Unnamed: 1\"].unique()\n",
    "print(df_unique)\n",
    "gmwi2_test = df_unique.tolist()"
   ],
   "id": "35bf77eb7cc29fd4",
   "outputs": [
    {
     "name": "stdout",
     "output_type": "stream",
     "text": [
      "['BioProjectID' nan 'PRJNA384246' 'PRJNA665061' 'PRJEB39223' 'PRJEB6456'\n",
      " 'PRJEB17632' 'PRJNA688274' 'PRJNA588805' 'PRJNA340216' 'PRJNA421881'\n",
      " 'PRJNA397112' 'PRJEB7774' 'PRJNA400072' 'PRJEB12124' 'PRJNA598446'\n",
      " 'PRJEB15371' 'PRJNA48479' 'PRJNA275349' 'PRJNA690543' 'PRJEB21528'\n",
      " 'PRJEB1786' 'PRJEB33013' 'PRJEB4336' 'PRJNA328899' 'PRJNA398089'\n",
      " 'PRJEB27005' 'PRJNA373901' 'PRJNA354235' 'PRJEB1220' 'PRJNA268964'\n",
      " 'PRJNA485056' 'PRJNA504891' 'PRJNA530971' 'PRJNA422434' 'PRJEB6337'\n",
      " 'PRJNA672125' 'PRJNA395744' 'PRJNA319574' 'PRJNA389280' 'PRJNA392180'\n",
      " 'PRJNA693850' 'PRJNA529124' 'PRJNA529400' 'PRJDB4176' 'PRJNA447983'\n",
      " 'PRJEB28543' 'PRJEB12449' 'PRJNA375935' 'PRJNA429990' 'PRJEB27928'\n",
      " 'PRJEB9576' 'PRJNA429097' 'PRJNA763023' 'PRJNA475246' 'PRJEB10878'\n",
      " 'PRJEB11532' 'PRJEB6070' 'PRJEB6997' 'PRJNA602729' 'PRJNA602731'\n",
      " 'PRJNA638404' 'PRJNA638403' 'PRJNA602732' 'PRJNA638405']\n"
     ]
    }
   ],
   "execution_count": 42
  },
  {
   "metadata": {
    "ExecuteTime": {
     "end_time": "2025-07-10T12:24:33.795120Z",
     "start_time": "2025-07-10T12:24:33.730182Z"
    }
   },
   "cell_type": "code",
   "source": [
    "#Supplementary Data 7. Human stool metagenome samples (n = 1140) in the external validation dataset.\n",
    "import pandas as pd\n",
    "\n",
    "df = pd.read_excel(\"/home/aleksandra/Pulpit/BIOINFORMATYKA/mikrobiom/gmwi2/gmwi7.xlsx\")\n",
    "df_unique = df[\"Unnamed: 1\"].unique()\n",
    "print(df_unique)\n",
    "gmwi2_validation = df_unique.tolist()"
   ],
   "id": "c708c6cec9f05611",
   "outputs": [
    {
     "name": "stdout",
     "output_type": "stream",
     "text": [
      "['BioProjectID' nan 'PRJNA834801' 'PRJEB49206' 'PRJNA890008' 'PRJEB28545'\n",
      " 'PRJEB24557' 'PRJNA832909']\n"
     ]
    }
   ],
   "execution_count": 46
  },
  {
   "metadata": {},
   "cell_type": "markdown",
   "source": "## EXTRACTION OF STUDY ACCESSION NUMBERS OF DATA USED IN THE hiPCA MANUSCRIPT",
   "id": "55a2d655abf9459a"
  },
  {
   "metadata": {
    "ExecuteTime": {
     "end_time": "2025-07-10T12:21:25.606824Z",
     "start_time": "2025-07-10T12:21:16.605612Z"
    }
   },
   "cell_type": "code",
   "source": [
    "#\"For the discovery cohort and validation cohort, we used GMHI data\"\n",
    "import pandas as pd\n",
    "import numpy as np\n",
    "\n",
    "df = pd.read_excel('/home/aleksandra/Pulpit/BIOINFORMATYKA/mikrobiom/hiPCA/hipca1.xlsx', header=None, sheet_name = 'Discovery dataset')\n",
    "row_idx = df[df[0] == 'Study Accession'].index[0]\n",
    "study_accessions = df.loc[row_idx, 1:].values\n",
    "unique_accessions = np.unique(study_accessions)\n",
    "print(unique_accessions)\n",
    "hipca_validation = unique_accessions.tolist()"
   ],
   "id": "554c392ef9cc7586",
   "outputs": [
    {
     "name": "stdout",
     "output_type": "stream",
     "text": [
      "['PRJDB3601' 'PRJEB10878' 'PRJEB11532' 'PRJEB12123' 'PRJEB1220'\n",
      " 'PRJEB12449' 'PRJEB12947' 'PRJEB13870' 'PRJEB15371' 'PRJEB1690'\n",
      " 'PRJEB1786' 'PRJEB19090' 'PRJEB21528' 'PRJEB4336' 'PRJEB6070' 'PRJEB6337'\n",
      " 'PRJEB6456' 'PRJEB6997' 'PRJEB7774' 'PRJEB8094' 'PRJNA177201'\n",
      " 'PRJNA268964' 'PRJNA278393' 'PRJNA290729' 'PRJNA299502' 'PRJNA305507'\n",
      " 'PRJNA319574' 'PRJNA328899' 'PRJNA373879' 'PRJNA385949' 'PRJNA389280'\n",
      " 'PRJNA422434' 'PRJNA48479']\n"
     ]
    }
   ],
   "execution_count": 43
  },
  {
   "metadata": {
    "ExecuteTime": {
     "end_time": "2025-07-10T12:24:40.933761Z",
     "start_time": "2025-07-10T12:24:39.446555Z"
    }
   },
   "cell_type": "code",
   "source": [
    "#For the test cohort, all sequencing data for this analysis can be obtained from the European Nucleotide Archive (ENA) databases, and the project numbers are PRJEB27005, PRJEB29127, PRJNA449784, PRJNA504891, PRJNA529124, PRJNA529400, and PRJNA531203\n",
    "import pandas as pd\n",
    "import numpy as np\n",
    "\n",
    "df = pd.read_excel('/home/aleksandra/Pulpit/BIOINFORMATYKA/mikrobiom/hiPCA/hipca1.xlsx', header=None, sheet_name = 'Test dataset')\n",
    "row_idx = df[df[0] == 'study_accession'].index[0]\n",
    "study_accessions = df.loc[row_idx, 1:].values\n",
    "unique_accessions = np.unique(study_accessions)\n",
    "print(unique_accessions)\n",
    "hipca_test = unique_accessions.tolist()"
   ],
   "id": "b4c9dc14125d54f3",
   "outputs": [
    {
     "name": "stdout",
     "output_type": "stream",
     "text": [
      "['PRJEB27005' 'PRJEB29127\\t' 'PRJNA449784' 'PRJNA504891' 'PRJNA529124'\n",
      " 'PRJNA529400' 'PRJNA531203']\n"
     ]
    }
   ],
   "execution_count": 47
  },
  {
   "metadata": {},
   "cell_type": "markdown",
   "source": "## SUMMARY",
   "id": "e2b52933cc627b4a"
  },
  {
   "metadata": {
    "ExecuteTime": {
     "end_time": "2025-07-10T12:36:32.232676Z",
     "start_time": "2025-07-10T12:36:32.224102Z"
    }
   },
   "cell_type": "code",
   "source": [
    "#Preparation of csv file consisting of all accession number of data used in GMWI2, GMHI and hiPCA and summarizing number of repeats\n",
    "import pandas as pd\n",
    "\n",
    "def pad_list(lst, length):\n",
    "    return lst + [None] * (length - len(lst))\n",
    "\n",
    "max_len = max(len(gmhi_test), len(gmhi_validation), len(gmwi2_test), len(gmwi2_validation), len(hipca_test), len(hipca_validation))\n",
    "\n",
    "data = {\n",
    "    'gmhi_test': pad_list(gmhi_test, max_len),\n",
    "    'gmhi_validation': pad_list(gmhi_validation, max_len),\n",
    "    'gmwi2_test': pad_list(gmwi2_test, max_len),\n",
    "    'gmwi2_validation': pad_list(gmwi2_validation, max_len),\n",
    "    'hipca_test': pad_list(hipca_test, max_len),\n",
    "    'hipca_validation': pad_list(hipca_validation, max_len)\n",
    "}\n",
    "df = pd.DataFrame(data)\n",
    "\n",
    "test_cols = [col for col in df.columns if col.endswith('test')]\n",
    "validation_cols = [col for col in df.columns if col.endswith('validation')]\n",
    "\n",
    "test_series = pd.concat([df[col] for col in test_cols], ignore_index=True).dropna()\n",
    "validation_series = pd.concat([df[col] for col in validation_cols], ignore_index=True).dropna()\n",
    "\n",
    "def summarize_duplicates(series, group_cols):\n",
    "\n",
    "    counts = series.value_counts()\n",
    "    duplicates = counts[counts > 1]\n",
    "    if duplicates.empty:\n",
    "        print(\"No repeats\")\n",
    "        return\n",
    "    print(\"Accession number | Number of repeates | Indices\")\n",
    "    for accession in duplicates.index:\n",
    "        cols_with_accession = [col for col in group_cols if accession in df[col].values]\n",
    "        print(f\"{accession} | {counts[accession]} | {cols_with_accession}\")\n",
    "\n",
    "print(\"\\nRepats of studies in test groups:\")\n",
    "summarize_duplicates(test_series, test_cols)\n",
    "\n",
    "print(\"\\nRepats of studies in validation groups:\")\n",
    "summarize_duplicates(validation_series, validation_cols)\n",
    "\n",
    "all_series = pd.concat([df[col] for col in df.columns], ignore_index=True).dropna()\n",
    "all_counts = all_series.value_counts()\n",
    "all_duplicates = all_counts[all_counts > 1]\n",
    "\n",
    "print(\"\\nRepats of studies in all groups:\")\n",
    "if all_duplicates.empty:\n",
    "    print(\"No repats\")\n",
    "else:\n",
    "    print(\"Accession number | Number of repeats | Indices\")\n",
    "    for accession in all_duplicates.index:\n",
    "        cols_with_accession = [col for col in df.columns if accession in df[col].values]\n",
    "        print(f\"{accession} | {all_counts[accession]} | {cols_with_accession}\")\n"
   ],
   "id": "a329ae3ea04f9a69",
   "outputs": [
    {
     "name": "stdout",
     "output_type": "stream",
     "text": [
      "\n",
      "Repats of studies in test groups:\n",
      "Accession number | Number of repeates | Indices\n",
      "PRJNA529124 | 2 | ['gmwi2_test', 'hipca_test']\n",
      "PRJNA529400 | 2 | ['gmwi2_test', 'hipca_test']\n",
      "PRJNA389280 | 2 | ['gmhi_test', 'gmwi2_test']\n",
      "PRJEB15371 | 2 | ['gmhi_test', 'gmwi2_test']\n",
      "PRJNA422434 | 2 | ['gmhi_test', 'gmwi2_test']\n",
      "PRJEB1786 | 2 | ['gmhi_test', 'gmwi2_test']\n",
      "PRJEB6337 | 2 | ['gmhi_test', 'gmwi2_test']\n",
      "PRJEB27005 | 2 | ['gmwi2_test', 'hipca_test']\n",
      "PRJNA504891 | 2 | ['gmwi2_test', 'hipca_test']\n",
      "PRJNA268964 | 2 | ['gmhi_test', 'gmwi2_test']\n",
      "PRJNA319574 | 2 | ['gmhi_test', 'gmwi2_test']\n",
      "PRJEB11532 | 2 | ['gmhi_test', 'gmwi2_test']\n",
      "PRJEB6997 | 2 | ['gmhi_test', 'gmwi2_test']\n",
      "PRJEB6456 | 2 | ['gmhi_test', 'gmwi2_test']\n",
      "PRJEB4336 | 2 | ['gmhi_test', 'gmwi2_test']\n",
      "PRJNA328899 | 2 | ['gmhi_test', 'gmwi2_test']\n",
      "PRJNA48479 | 2 | ['gmhi_test', 'gmwi2_test']\n",
      "PRJEB21528 | 2 | ['gmhi_test', 'gmwi2_test']\n",
      "PRJEB7774 | 2 | ['gmhi_test', 'gmwi2_test']\n",
      "PRJEB6070 | 2 | ['gmhi_test', 'gmwi2_test']\n",
      "PRJEB12449 | 2 | ['gmhi_test', 'gmwi2_test']\n",
      "PRJEB10878 | 2 | ['gmhi_test', 'gmwi2_test']\n",
      "PRJEB1220 | 2 | ['gmhi_test', 'gmwi2_test']\n",
      "\n",
      "Repats of studies in validation groups:\n",
      "Accession number | Number of repeates | Indices\n",
      "PRJEB6337 | 2 | ['gmhi_validation', 'hipca_validation']\n",
      "\n",
      "Repats of studies in all groups:\n",
      "Accession number | Number of repeats | Indices\n",
      "PRJEB6337 | 4 | ['gmhi_test', 'gmhi_validation', 'gmwi2_test', 'hipca_validation']\n",
      "PRJEB15371 | 3 | ['gmhi_test', 'gmwi2_test', 'hipca_validation']\n",
      "PRJEB1786 | 3 | ['gmhi_test', 'gmwi2_test', 'hipca_validation']\n",
      "PRJNA422434 | 3 | ['gmhi_test', 'gmwi2_test', 'hipca_validation']\n",
      "PRJNA389280 | 3 | ['gmhi_test', 'gmwi2_test', 'hipca_validation']\n",
      "PRJNA268964 | 3 | ['gmhi_test', 'gmwi2_test', 'hipca_validation']\n",
      "PRJEB4336 | 3 | ['gmhi_test', 'gmwi2_test', 'hipca_validation']\n",
      "PRJNA48479 | 3 | ['gmhi_test', 'gmwi2_test', 'hipca_validation']\n",
      "PRJNA328899 | 3 | ['gmhi_test', 'gmwi2_test', 'hipca_validation']\n",
      "PRJEB6456 | 3 | ['gmhi_test', 'gmwi2_test', 'hipca_validation']\n",
      "PRJEB6997 | 3 | ['gmhi_test', 'gmwi2_test', 'hipca_validation']\n",
      "PRJEB11532 | 3 | ['gmhi_test', 'gmwi2_test', 'hipca_validation']\n",
      "PRJNA319574 | 3 | ['gmhi_test', 'gmwi2_test', 'hipca_validation']\n",
      "PRJEB1220 | 3 | ['gmhi_test', 'gmwi2_test', 'hipca_validation']\n",
      "PRJEB10878 | 3 | ['gmhi_test', 'gmwi2_test', 'hipca_validation']\n",
      "PRJEB21528 | 3 | ['gmhi_test', 'gmwi2_test', 'hipca_validation']\n",
      "PRJEB7774 | 3 | ['gmhi_test', 'gmwi2_test', 'hipca_validation']\n",
      "PRJEB6070 | 3 | ['gmhi_test', 'gmwi2_test', 'hipca_validation']\n",
      "PRJEB12449 | 3 | ['gmhi_test', 'gmwi2_test', 'hipca_validation']\n",
      "PRJNA278393 | 2 | ['gmhi_test', 'hipca_validation']\n",
      "PRJNA529124 | 2 | ['gmwi2_test', 'hipca_test']\n",
      "PRJEB1690 | 2 | ['gmhi_test', 'hipca_validation']\n",
      "PRJNA305507 | 2 | ['gmhi_test', 'hipca_validation']\n",
      "PRJEB19090 | 2 | ['gmhi_test', 'hipca_validation']\n",
      "PRJEB12123 | 2 | ['gmhi_test', 'hipca_validation']\n",
      "PRJNA529400 | 2 | ['gmwi2_test', 'hipca_test']\n",
      "PRJEB8094 | 2 | ['gmhi_test', 'hipca_validation']\n",
      "PRJEB13870 | 2 | ['gmhi_test', 'hipca_validation']\n",
      "PRJNA299502 | 2 | ['gmhi_test', 'hipca_validation']\n",
      "PRJNA397112 | 2 | ['gmhi_validation', 'gmwi2_test']\n",
      "PRJEB12947 | 2 | ['gmhi_test', 'hipca_validation']\n",
      "PRJNA290729 | 2 | ['gmhi_test', 'hipca_validation']\n",
      "PRJNA373879 | 2 | ['gmhi_test', 'hipca_validation']\n",
      "PRJNA177201 | 2 | ['gmhi_test', 'hipca_validation']\n",
      "PRJDB3601 | 2 | ['gmhi_test', 'hipca_validation']\n",
      "PRJNA373901 | 2 | ['gmhi_validation', 'gmwi2_test']\n",
      "PRJNA375935 | 2 | ['gmhi_validation', 'gmwi2_test']\n",
      "BioProjectID | 2 | ['gmwi2_test', 'gmwi2_validation']\n",
      "PRJEB27928 | 2 | ['gmhi_validation', 'gmwi2_test']\n",
      "PRJDB4176 | 2 | ['gmhi_validation', 'gmwi2_test']\n",
      "PRJNA504891 | 2 | ['gmwi2_test', 'hipca_test']\n",
      "PRJEB27005 | 2 | ['gmwi2_test', 'hipca_test']\n",
      "PRJNA447983 | 2 | ['gmhi_validation', 'gmwi2_test']\n",
      "Study Accession | 2 | ['gmhi_test', 'gmhi_validation']\n",
      "PRJNA385949 | 2 | ['gmhi_test', 'hipca_validation']\n"
     ]
    }
   ],
   "execution_count": 53
  }
 ],
 "metadata": {
  "kernelspec": {
   "display_name": "Python 3",
   "language": "python",
   "name": "python3"
  },
  "language_info": {
   "codemirror_mode": {
    "name": "ipython",
    "version": 2
   },
   "file_extension": ".py",
   "mimetype": "text/x-python",
   "name": "python",
   "nbconvert_exporter": "python",
   "pygments_lexer": "ipython2",
   "version": "2.7.6"
  }
 },
 "nbformat": 4,
 "nbformat_minor": 5
}
