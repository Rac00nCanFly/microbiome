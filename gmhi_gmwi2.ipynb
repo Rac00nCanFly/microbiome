{
 "cells": [
  {
   "cell_type": "code",
   "id": "initial_id",
   "metadata": {
    "collapsed": true,
    "ExecuteTime": {
     "end_time": "2025-07-19T12:30:31.967073Z",
     "start_time": "2025-07-19T12:30:31.478876Z"
    }
   },
   "source": [
    "import pandas as pd\n",
    "\n",
    "df = pd.read_excel(\"/home/aleksandra/Pulpit/BIOINFORMATYKA/microbiome/gmhi/gmhi1.xlsx\")\n",
    "df[\"Age\"] = pd.to_numeric(df[\"Age\"], errors=\"coerce\")\n",
    "df[\"BMI (kg/m²)\"] = pd.to_numeric(df[\"BMI (kg/m²)\"], errors=\"coerce\")\n",
    "unique_phenotypes = df[\"Phenotype\"].dropna().unique()\n",
    "unique_accessions = df[\"Study Accession\"].dropna().unique()\n",
    "min_age = df[\"Age\"].min()\n",
    "max_age = df[\"Age\"].max()\n",
    "min_bmi = df[\"BMI (kg/m²)\"].min()\n",
    "max_bmi = df[\"BMI (kg/m²)\"].max()\n",
    "\n",
    "summary_dict = {\n",
    "    \"Unique Phenotypes\": \", \".join(unique_phenotypes),\n",
    "    \"Unique Study Accessions\": \", \".join(unique_accessions),\n",
    "    \"Min Age\": min_age,\n",
    "    \"Max Age\": max_age,\n",
    "    \"Min BMI\": min_bmi,\n",
    "    \"Max BMI\": max_bmi,\n",
    "    \"Country\": \"Lack of information\"\n",
    "}\n",
    "\n",
    "summary_df = pd.DataFrame([summary_dict])\n",
    "\n",
    "summary_df.to_csv(\"/home/aleksandra/Pulpit/BIOINFORMATYKA/microbiome/gmhi_summary.csv\", index=False)"
   ],
   "outputs": [
    {
     "name": "stderr",
     "output_type": "stream",
     "text": [
      "/usr/lib/python3/dist-packages/openpyxl/styles/stylesheet.py:226: UserWarning: Workbook contains no default style, apply openpyxl's default\n",
      "  warn(\"Workbook contains no default style, apply openpyxl's default\")\n"
     ]
    }
   ],
   "execution_count": 27
  },
  {
   "metadata": {
    "ExecuteTime": {
     "end_time": "2025-07-19T12:37:11.591349Z",
     "start_time": "2025-07-19T12:37:11.533099Z"
    }
   },
   "cell_type": "code",
   "source": [
    "import pandas as pd\n",
    "\n",
    "df = pd.read_excel(\"/home/aleksandra/Pulpit/BIOINFORMATYKA/microbiome/gmhi/gmhi4.xlsx\")\n",
    "df[\"Age\"] = pd.to_numeric(df[\"Age\"], errors=\"coerce\")\n",
    "df[\"BMI\"] = pd.to_numeric(df[\"BMI\"], errors=\"coerce\")\n",
    "unique_phenotypes = df[\"Phenotype\"].dropna().unique()\n",
    "unique_accessions = df[\"Study Accession\"].dropna().unique()\n",
    "unique_country = df[\"Country\"].unique()\n",
    "min_age = df[\"Age\"].min()\n",
    "max_age = df[\"Age\"].max()\n",
    "min_bmi = df[\"BMI\"].min()\n",
    "max_bmi = df[\"BMI\"].max()\n",
    "\n",
    "summary_dict = {\n",
    "    \"Unique Phenotypes\": \", \".join(unique_phenotypes),\n",
    "    \"Unique Study Accessions\": \", \".join(unique_accessions),\n",
    "    \"Min Age\": min_age,\n",
    "    \"Max Age\": max_age,\n",
    "    \"Min BMI\": min_bmi,\n",
    "    \"Max BMI\": max_bmi,\n",
    "    \"Country\": unique_country\n",
    "}\n",
    "\n",
    "summary_df = pd.DataFrame([summary_dict])\n",
    "\n",
    "summary_df.to_csv(\"/home/aleksandra/Pulpit/BIOINFORMATYKA/microbiome/gmhi_val_summary.csv\", index=False)"
   ],
   "id": "f3323247ebe772c4",
   "outputs": [
    {
     "name": "stderr",
     "output_type": "stream",
     "text": [
      "/usr/lib/python3/dist-packages/openpyxl/styles/stylesheet.py:226: UserWarning: Workbook contains no default style, apply openpyxl's default\n",
      "  warn(\"Workbook contains no default style, apply openpyxl's default\")\n"
     ]
    }
   ],
   "execution_count": 32
  },
  {
   "metadata": {
    "ExecuteTime": {
     "end_time": "2025-07-19T12:56:39.303952Z",
     "start_time": "2025-07-19T12:56:38.810461Z"
    }
   },
   "cell_type": "code",
   "source": [
    "import pandas as pd\n",
    "\n",
    "df = pd.read_excel(\"/home/aleksandra/Pulpit/BIOINFORMATYKA/microbiome/gmwi2/gmwi2.xlsx\")\n",
    "df[\"Age (Years)\"] = pd.to_numeric(df[\"Age (Years)\"], errors=\"coerce\")\n",
    "df[\"BMI (kg/m²)\"] = pd.to_numeric(df[\"BMI (kg/m²)\"], errors=\"coerce\")\n",
    "unique_phenotypes = df[\"Phenotype\"].dropna().unique()\n",
    "unique_accessions = df[\"BioProjectID\"].dropna().unique()\n",
    "unique_country = df[\"Geography (Country)\"].unique()\n",
    "min_age = df[\"Age (Years)\"].min()\n",
    "max_age = df[\"Age (Years)\"].max()\n",
    "min_bmi = df[\"BMI (kg/m²)\"].min()\n",
    "max_bmi = df[\"BMI (kg/m²)\"].max()\n",
    "\n",
    "summary_dict = {\n",
    "    \"Unique Phenotypes\": \", \".join(unique_phenotypes),\n",
    "    \"Unique Study Accessions\": \", \".join(unique_accessions),\n",
    "    \"Min Age\": min_age,\n",
    "    \"Max Age\": max_age,\n",
    "    \"Min BMI\": min_bmi,\n",
    "    \"Max BMI\": max_bmi,\n",
    "    \"Country\": unique_country\n",
    "}\n",
    "\n",
    "summary_df = pd.DataFrame([summary_dict])\n",
    "\n",
    "summary_df.to_csv(\"/home/aleksandra/Pulpit/BIOINFORMATYKA/microbiome/gmwi2_summary.csv\", index=False)"
   ],
   "id": "a7d4db5faa52e786",
   "outputs": [
    {
     "name": "stderr",
     "output_type": "stream",
     "text": [
      "/usr/lib/python3/dist-packages/openpyxl/styles/stylesheet.py:226: UserWarning: Workbook contains no default style, apply openpyxl's default\n",
      "  warn(\"Workbook contains no default style, apply openpyxl's default\")\n"
     ]
    }
   ],
   "execution_count": 39
  },
  {
   "metadata": {
    "ExecuteTime": {
     "end_time": "2025-07-19T13:00:03.019427Z",
     "start_time": "2025-07-19T13:00:02.876215Z"
    }
   },
   "cell_type": "code",
   "source": [
    "import pandas as pd\n",
    "\n",
    "df = pd.read_excel(\"/home/aleksandra/Pulpit/BIOINFORMATYKA/microbiome/gmwi2/gmwi7.xlsx\")\n",
    "unique_phenotypes = df[\"Phenotype\"].dropna().unique()\n",
    "unique_accessions = df[\"BioProjectID\"].dropna().unique()\n",
    "unique_country = df[\"Geography (Country)\"].unique()\n",
    "summary_dict = {\n",
    "    \"Unique Phenotypes\": \", \".join(unique_phenotypes),\n",
    "    \"Unique Study Accessions\": \", \".join(unique_accessions),\n",
    "    \"Min Age\": \"Lack of information\",\n",
    "    \"Max Age\": \"Lack of information\",\n",
    "    \"Min BMI\": \"Lack of information\",\n",
    "    \"Max BMI\": \"Lack of information\",\n",
    "    \"Country\": unique_country\n",
    "}\n",
    "\n",
    "summary_df = pd.DataFrame([summary_dict])\n",
    "\n",
    "summary_df.to_csv(\"/home/aleksandra/Pulpit/BIOINFORMATYKA/microbiome/gmwi2_val_summary.csv\", index=False)"
   ],
   "id": "98c4e2ae1b0ff922",
   "outputs": [
    {
     "name": "stderr",
     "output_type": "stream",
     "text": [
      "/usr/lib/python3/dist-packages/openpyxl/styles/stylesheet.py:226: UserWarning: Workbook contains no default style, apply openpyxl's default\n",
      "  warn(\"Workbook contains no default style, apply openpyxl's default\")\n"
     ]
    }
   ],
   "execution_count": 42
  }
 ],
 "metadata": {
  "kernelspec": {
   "display_name": "Python 3",
   "language": "python",
   "name": "python3"
  },
  "language_info": {
   "codemirror_mode": {
    "name": "ipython",
    "version": 2
   },
   "file_extension": ".py",
   "mimetype": "text/x-python",
   "name": "python",
   "nbconvert_exporter": "python",
   "pygments_lexer": "ipython2",
   "version": "2.7.6"
  }
 },
 "nbformat": 4,
 "nbformat_minor": 5
}
